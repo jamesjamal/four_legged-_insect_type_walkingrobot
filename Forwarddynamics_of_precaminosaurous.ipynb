{
 "cells": [
  {
   "cell_type": "code",
   "execution_count": 35,
   "metadata": {},
   "outputs": [],
   "source": [
    "import numpy  as np \n",
    "\n",
    "theta1=(45/180)*np.pi\n",
    "theta2=(-45/180)*np.pi\n",
    "alpha1=(90/180)*np.pi\n",
    "d1=0.044\n",
    "d2=0\n",
    "l1=0.148\n",
    "l2=0.219"
   ]
  },
  {
   "cell_type": "code",
   "execution_count": 36,
   "metadata": {},
   "outputs": [],
   "source": [
    "PT=[[theta1,alpha1,d1,l1],#Denavit Hartenberg Table for singe leg\n",
    "   [theta2,0,0,l2]]"
   ]
  },
  {
   "cell_type": "code",
   "execution_count": 37,
   "metadata": {},
   "outputs": [],
   "source": [
    "i=0\n",
    "T0_1=[[np.cos(PT[i][0]),-np.sin(PT[i][0])*np.cos(PT[i][1]),np.sin(PT[i][0])*np.sin(PT[i][1]),l1*np.cos(PT[i][0])],\n",
    "        [np.sin(PT[i][0]),np.cos(PT[i][0])*np.cos(PT[i][1]),-np.cos(PT[i][0])*np.sin(PT[i][1]),l1*np.sin(PT[i][0])],\n",
    "        [0,np.sin(PT[i][1]),np.cos(PT[i][1]),d1],\n",
    "        [0,0,0,1]]"
   ]
  },
  {
   "cell_type": "code",
   "execution_count": 38,
   "metadata": {},
   "outputs": [
    {
     "name": "stdout",
     "output_type": "stream",
     "text": [
      "[[ 7.07106781e-01 -4.32978028e-17  7.07106781e-01  1.04651804e-01]\n",
      " [ 7.07106781e-01  4.32978028e-17 -7.07106781e-01  1.04651804e-01]\n",
      " [ 0.00000000e+00  1.00000000e+00  6.12323400e-17  4.40000000e-02]\n",
      " [ 0.00000000e+00  0.00000000e+00  0.00000000e+00  1.00000000e+00]]\n"
     ]
    }
   ],
   "source": [
    "print(np.matrix(T0_1))"
   ]
  },
  {
   "cell_type": "code",
   "execution_count": 39,
   "metadata": {},
   "outputs": [],
   "source": [
    "i=1\n",
    "T1_2=[[np.cos(PT[i][0]),-np.sin(PT[i][0])*np.cos(PT[i][1]),np.sin(PT[i][0])*np.sin(PT[i][1]),l2*np.cos(PT[i][0])],\n",
    "        [np.sin(PT[i][0]),np.cos(PT[i][0])*np.cos(PT[i][1]),-np.cos(PT[i][0])*np.sin(PT[i][1]),l2*np.sin(PT[i][0])],\n",
    "        [0,np.sin(PT[i][1]),np.cos(PT[i][1]),d2],\n",
    "        [0,0,0,1]]"
   ]
  },
  {
   "cell_type": "code",
   "execution_count": 40,
   "metadata": {},
   "outputs": [
    {
     "name": "stdout",
     "output_type": "stream",
     "text": [
      "[[ 0.70710678  0.70710678 -0.          0.15485639]\n",
      " [-0.70710678  0.70710678 -0.         -0.15485639]\n",
      " [ 0.          0.          1.          0.        ]\n",
      " [ 0.          0.          0.          1.        ]]\n"
     ]
    }
   ],
   "source": [
    "print(np.matrix(T1_2))"
   ]
  },
  {
   "cell_type": "code",
   "execution_count": 41,
   "metadata": {},
   "outputs": [],
   "source": [
    "T0_2=np.dot(T0_1,T1_2)"
   ]
  },
  {
   "cell_type": "code",
   "execution_count": 42,
   "metadata": {},
   "outputs": [
    {
     "name": "stdout",
     "output_type": "stream",
     "text": [
      "[[ 5.00000000e-01  5.00000000e-01  7.07106781e-01  2.14151804e-01]\n",
      " [ 5.00000000e-01  5.00000000e-01 -7.07106781e-01  2.14151804e-01]\n",
      " [-7.07106781e-01  7.07106781e-01  6.12323400e-17 -1.10856385e-01]\n",
      " [ 0.00000000e+00  0.00000000e+00  0.00000000e+00  1.00000000e+00]]\n"
     ]
    }
   ],
   "source": [
    "print(np.matrix(T0_2))"
   ]
  },
  {
   "cell_type": "code",
   "execution_count": 17,
   "metadata": {},
   "outputs": [],
   "source": [
    "T1_1=[[np.cos(theta1+theta2),np.cos(theta1)*-np.sin(theta2),np.sin(theta1),(l2*(np.cos(theta1+theta2)))+(l1*(np.cos(theta1)))],\n",
    "        [np.sin(theta1)*np.cos(theta2),-np.sin(theta1)*np.sin(theta2),-np.cos(theta1),(l2*(np.cos(theta2)))*(np.sin(theta1))+l1*(np.sin(theta1))],\n",
    "        [np.sin(theta2),np.cos(theta2),0,(l2*(np.sin(theta2)))+(d1)],\n",
    "        [0,0,0,1]]"
   ]
  },
  {
   "cell_type": "code",
   "execution_count": 18,
   "metadata": {},
   "outputs": [
    {
     "name": "stdout",
     "output_type": "stream",
     "text": [
      "[[ 6.12323400e-17 -5.00000000e-01  7.07106781e-01  1.04651804e-01]\n",
      " [ 5.00000000e-01 -5.00000000e-01 -7.07106781e-01  2.14151804e-01]\n",
      " [ 7.07106781e-01  7.07106781e-01  0.00000000e+00  1.98856385e-01]\n",
      " [ 0.00000000e+00  0.00000000e+00  0.00000000e+00  1.00000000e+00]]\n"
     ]
    }
   ],
   "source": [
    "print(np.matrix(T1_1))"
   ]
  },
  {
   "cell_type": "code",
   "execution_count": 27,
   "metadata": {},
   "outputs": [
    {
     "name": "stdout",
     "output_type": "stream",
     "text": [
      "-0.4480736161291701\n"
     ]
    }
   ],
   "source": [
    "print(np.cos(90))"
   ]
  },
  {
   "cell_type": "code",
   "execution_count": null,
   "metadata": {},
   "outputs": [],
   "source": []
  }
 ],
 "metadata": {
  "kernelspec": {
   "display_name": "Python 3",
   "language": "python",
   "name": "python3"
  },
  "language_info": {
   "codemirror_mode": {
    "name": "ipython",
    "version": 3
   },
   "file_extension": ".py",
   "mimetype": "text/x-python",
   "name": "python",
   "nbconvert_exporter": "python",
   "pygments_lexer": "ipython3",
   "version": "3.7.1"
  }
 },
 "nbformat": 4,
 "nbformat_minor": 2
}
